{
  "nbformat": 4,
  "nbformat_minor": 0,
  "metadata": {
    "colab": {
      "name": "Multiple Linear Regression",
      "provenance": [],
      "collapsed_sections": [],
      "authorship_tag": "ABX9TyMe1l90OZ3x9YDNe8792kw9",
      "include_colab_link": true
    },
    "kernelspec": {
      "name": "python3",
      "display_name": "Python 3"
    }
  },
  "cells": [
    {
      "cell_type": "markdown",
      "metadata": {
        "id": "view-in-github",
        "colab_type": "text"
      },
      "source": [
        "<a href=\"https://colab.research.google.com/github/NetaTartakovsky/SimpleLinearRegression/blob/main/Multiple_Linear_Regression.ipynb\" target=\"_parent\"><img src=\"https://colab.research.google.com/assets/colab-badge.svg\" alt=\"Open In Colab\"/></a>"
      ]
    },
    {
      "cell_type": "markdown",
      "metadata": {
        "id": "jJM0et8aDpqO"
      },
      "source": [
        "# Multiple Linear Regression Project\n",
        "\n",
        "**Project Overview**\n",
        "\n",
        "For this project, I created a linear regression model from scratch, while refraining from using any third party libraries which already contain these functions, such as sklearn. I then used the model to explore the linear relationship between property features and sales values for houses sold in King County, WA between May 2014 and May 2015."
      ]
    },
    {
      "cell_type": "markdown",
      "metadata": {
        "id": "MXuXOrsld-l_"
      },
      "source": [
        "**Linear Regression**\n",
        "\n",
        "Linear regression is a statistical approach to modeling the linear relationship between a dependent variable and one or more independent, or explanatory, variables.\n",
        "\n",
        "A simple linear regression line (with only one independent variable) takes the form of:\n",
        "\n",
        "$$Y = mX + b$$\n",
        "\n",
        "Where Y represents the dependent variable, X represents the independent variable, m is the slope, and b is the intercept. Predictions for Y can be made using this equation with a given X value.\n",
        "\n",
        "**Multiple Linear Regression**\n",
        "\n",
        "Multiple linear regression is the process for modeling the linear relationship between multiple explanatory variables and one dependent variable. These explanatory variables are also known as the 'feature variables', and the dependent variable is known as the 'target variable'. This is the type of relationship that I explored in this project. In this approach, the linear regression line takes the form of:\n",
        "\n",
        "$$Y = \\beta_0 + \\beta_1 x_1 + \\beta_2 x_2 + \\ ... \\ + \\beta_n x_n$$\n",
        "\n",
        "Where Y represents the target variable, each x represents the n different feature variables, 𝛽0 is the intercept, and the remaining 𝛽 values represent the coefficients, or parameters, for each explanatory variable.\n",
        "\n",
        "When this statistical model is implemented, the x values (features) are represented as a vector of values, called X. The parameters are also represented as a vector, called 𝛽. The model of the relationship can now be represented as:\n",
        "\n",
        "$$Y = X^{T}\\beta$$\n",
        "\n",
        "Where T denotes the transpose of the vector X, so the equation above represents the inner product of the vector of feature variables with the vector of parameters of the model, allowing for the calculation of the predicted value of Y.\n",
        "\n",
        "**Cost Function**\n",
        "\n",
        "The goal for the linear regression model is to minimize the difference, or error, between the predicted value and the actual value. This error can be calculated using a cost function. The cost function I chose to use for my implementation was the *(1/2) x Mean Squared Error (MSE)* function:\n",
        "\n",
        "$$ E = \\frac{1}{2n} \\ \\sum_{i = 1}^n \\ (\\hat{y}_i - y_i)^2$$\n",
        "\n",
        "Where (𝑦𝑖 − 𝑦̂𝑖) is the difference between the actual y value and the predicted y value.\n",
        "\n",
        "You can then plug in 𝑦̂𝑖 = 𝑚*𝑥𝑖+𝑏 to get the following equation for error:\n",
        "\n",
        "$$ E = \\frac{1}{2n} \\ \\sum_{i = 1}^n \\ ((mx_i + b) - y_i)^2$$\n",
        "\n",
        "**Gradient Descent**\n",
        "\n",
        "Gradient descent is an iterative optimization algorithm intended for finding the minimum of a function. This is the algorithm I employed in my linear regression model to optimize the values of the parameters such that the cost function is minimized. The general idea is to take gradual steps in the opposite direction of the slope of the cost function in order to find a local minimum. This can be accomplished by taking the derivative of the cost function with respect to each parameter, and updating the parameters with the new direction they need to move towards. This derivative can be represented as:\n",
        "\n",
        "$$D = \\frac{1}{n} \\ \\sum_{i=1}^n \\ x_i \\ ((mx_i + b) - y_i)$$\n",
        "\n",
        "In the implementation of the model, with vector representation, this derivative takes the form of:\n",
        "\n",
        "$$D = \\frac{1}{n} \\ X^T \\ (X \\cdot \\beta - Y)$$\n",
        "\n",
        "This is the equation that is used to train the model and iteratively change the parameters to minimize the error between the predictions and the actual values. During each iteration, the derivative is computed, multiplied by the pre-established learning rate for the model, and then used to update the values of the parameters."
      ]
    },
    {
      "cell_type": "markdown",
      "metadata": {
        "id": "KioPdBbygV4J"
      },
      "source": [
        "# Implementation of Linear Regression Model\n",
        "\n",
        "The following code is the implementation of the necessary functions for the construction of the linear regression model. These functions will later be used to model the relationship between property features and sales values in a real estate dataset. "
      ]
    },
    {
      "cell_type": "markdown",
      "metadata": {
        "id": "RlG4uANDeV7l"
      },
      "source": [
        "**Import Python Libraries**\n",
        "\n",
        "* Pandas: provides tools for data manipulation and analysis\n",
        "* Numpy: provides tools for vector computations\n",
        "* Matplotlib: provides tools to graphically display our data"
      ]
    },
    {
      "cell_type": "code",
      "metadata": {
        "id": "UoS30W7Xh3S2"
      },
      "source": [
        "import pandas as pd\n",
        "import numpy as np\n",
        "import matplotlib.pyplot as plt"
      ],
      "execution_count": 172,
      "outputs": []
    },
    {
      "cell_type": "markdown",
      "metadata": {
        "id": "Rj9ZUD_6eyUO"
      },
      "source": [
        "**Standardizing the Data**\n",
        "\n",
        "First, I implemented a function that standardizes the feature data. Data standardization allows the gradient descent algorithm to converge much faster. Standardization will convert all the feature variables into variables with a mean of 0 and unit-variance. This is achieved by subtracting the feature's mean from the original feature, and then dividing by the feature's standard deviation.\n",
        "\n",
        "$$ x' = \\frac{x - \\bar{x}}{\\sigma}$$\n",
        "\n",
        "Where x is the original feature vector, x̄ is the mean of the feature vector, and 𝜎 is the standard deviation of the feature vector.\n",
        "\n",
        "This process is implemented with the following fit_and_transform() method. Fit_and_transform() is a from-scratch version of the fit_transform() method from scikit-learn, Python's machine learning library.\n",
        "\n",
        "The fit_and_transform() method takes a dataset (an array of feature arrays) and standardizes all the elements contained within."
      ]
    },
    {
      "cell_type": "code",
      "metadata": {
        "id": "00pvowR9-vuk"
      },
      "source": [
        "# Standardizes data - for each element in data, subtracts the mean of the column and divides by the standard deviation of the column\n",
        "# Returns the standardized data in numpy array format\n",
        "def fit_and_transform(data):\n",
        "    data = np.array(data)\n",
        "    mean = []\n",
        "    stdev = []\n",
        "    for i in range(len(data[0])):\n",
        "        features = data[:,i]\n",
        "        mean.append(np.mean(features))\n",
        "        stdev.append(np.std(features))\n",
        "    transformed_data = []\n",
        "    for i in range(len(data)):\n",
        "        transformed_data.append(list((data[i] - mean) / stdev))\n",
        "    return np.array(transformed_data)"
      ],
      "execution_count": 173,
      "outputs": []
    },
    {
      "cell_type": "markdown",
      "metadata": {
        "id": "VMz7C11_fPhP"
      },
      "source": [
        "**Cost Function**\n",
        "\n",
        "Next, I implemented the method for computing the cost with a given set of feature data, target values, and parameters."
      ]
    },
    {
      "cell_type": "code",
      "metadata": {
        "id": "421TOVXTfM-_"
      },
      "source": [
        "# Computes cost using (1/2) * Mean Squared Error (MSE) calculation\n",
        "def cost_function(X, y, params):\n",
        "    n = len(y)\n",
        "    cost = np.sum((X @ params - y) ** 2 / (2*n))\n",
        "    return cost"
      ],
      "execution_count": 174,
      "outputs": []
    },
    {
      "cell_type": "markdown",
      "metadata": {
        "id": "_un8LsJpfdt0"
      },
      "source": [
        "**Gradient Descent**\n",
        "\n",
        "Then, I implemented the iterative gradient descent method. This method trains the linear regression model by gradually optimizing the parameters using a given set of feature data and corresponding target values. It also takes in a value indicating the number of iterations it should perform, and a learning rate, which will be used to compute the new parameter values. During each iteration, the parameter values will be updated and the current cost will be computed and appended to an array holding the history of costs for all the iterations. Once all the iterations are complete, the final paramters and cost history array will be returned."
      ]
    },
    {
      "cell_type": "code",
      "metadata": {
        "id": "nf1LVkb3FZi3"
      },
      "source": [
        "# Iterates given number of times, and improves the fit of the parameters each time\n",
        "# The cost for each iteration is stored in cost_history array\n",
        "# Returns the final parameters and the cost history\n",
        "def gradient_descent(X, y, params, num_iters, learning_rate):\n",
        "    n = len(y)\n",
        "    cost_history = []\n",
        "\n",
        "    for i in range(num_iters):\n",
        "        change = (X.T @ ((X @ params) - y)) / n  # the change is computed using the derivative of the cost function\n",
        "        params = params - learning_rate * change\n",
        "        cost = cost_function(X, y, params)\n",
        "        cost_history.append(cost)\n",
        "\n",
        "    return params, cost_history"
      ],
      "execution_count": 175,
      "outputs": []
    },
    {
      "cell_type": "markdown",
      "metadata": {
        "id": "PLaqOs7K41-i"
      },
      "source": [
        "**Predicting Values**\n",
        "\n",
        "Lastly, I implemented a method to predict target values for a given set of feature values and parameters. This method simply returns the inner product of the two given vectors."
      ]
    },
    {
      "cell_type": "code",
      "metadata": {
        "id": "VMI6CeL15BUZ"
      },
      "source": [
        "# Predicts target values using given feature values and parameters\n",
        "def predict(X, params):\n",
        "    return (X @ params)"
      ],
      "execution_count": 176,
      "outputs": []
    },
    {
      "cell_type": "markdown",
      "metadata": {
        "id": "GsRgCu3sgRYc"
      },
      "source": [
        "# Linear Regression of Real Estate Data\n",
        "\n",
        "Now that all the necessary linear regression functions have been implemented, a real dataset can be used to train the model."
      ]
    },
    {
      "cell_type": "markdown",
      "metadata": {
        "id": "M_aQ1K6dg1lM"
      },
      "source": [
        "**The Data**\n",
        "\n",
        "The dataset I used contains home sales prices and features for King County (which includes Seattle) during May 2014 - May 2015.\n",
        "\n",
        "It can be downloaded here:\n",
        "https://geodacenter.github.io/data-and-lab//KingCounty-HouseSales2015/"
      ]
    },
    {
      "cell_type": "markdown",
      "metadata": {
        "id": "WbyPnnHTg80F"
      },
      "source": [
        "I uploaded the data using the Pandas read_csv() method."
      ]
    },
    {
      "cell_type": "code",
      "metadata": {
        "id": "6y-8G4oija7O"
      },
      "source": [
        "url = 'https://raw.githubusercontent.com/NetaTartakovsky/SimpleLinearRegression/main/kc_house_data.csv?token=AJZYVEYMP5DPJS5ATH7DEUS74KIPS'\n",
        "df1 = pd.read_csv(url)"
      ],
      "execution_count": 177,
      "outputs": []
    },
    {
      "cell_type": "markdown",
      "metadata": {
        "id": "YHh_36xdoD3x"
      },
      "source": [
        "**Data Exploration**\n",
        "\n",
        "Before constructing the model, I performed data exploration in order to thoroughly understand the dataset. \n",
        "\n",
        "\n",
        "First, I displayed a preview of the first 5 rows of the dataset using the Pandas head() method."
      ]
    },
    {
      "cell_type": "code",
      "metadata": {
        "colab": {
          "base_uri": "https://localhost:8080/",
          "height": 224
        },
        "id": "yAOQE-gUosPc",
        "outputId": "60e7b043-88b0-4777-fc34-ea3967c19b57"
      },
      "source": [
        "df = df1\n",
        "df.head()"
      ],
      "execution_count": 178,
      "outputs": [
        {
          "output_type": "execute_result",
          "data": {
            "text/html": [
              "<div>\n",
              "<style scoped>\n",
              "    .dataframe tbody tr th:only-of-type {\n",
              "        vertical-align: middle;\n",
              "    }\n",
              "\n",
              "    .dataframe tbody tr th {\n",
              "        vertical-align: top;\n",
              "    }\n",
              "\n",
              "    .dataframe thead th {\n",
              "        text-align: right;\n",
              "    }\n",
              "</style>\n",
              "<table border=\"1\" class=\"dataframe\">\n",
              "  <thead>\n",
              "    <tr style=\"text-align: right;\">\n",
              "      <th></th>\n",
              "      <th>id</th>\n",
              "      <th>date</th>\n",
              "      <th>price</th>\n",
              "      <th>bedrooms</th>\n",
              "      <th>bathrooms</th>\n",
              "      <th>sqft_living</th>\n",
              "      <th>sqft_lot</th>\n",
              "      <th>floors</th>\n",
              "      <th>waterfront</th>\n",
              "      <th>view</th>\n",
              "      <th>condition</th>\n",
              "      <th>grade</th>\n",
              "      <th>sqft_above</th>\n",
              "      <th>sqft_basement</th>\n",
              "      <th>yr_built</th>\n",
              "      <th>yr_renovated</th>\n",
              "      <th>zipcode</th>\n",
              "      <th>lat</th>\n",
              "      <th>long</th>\n",
              "      <th>sqft_living15</th>\n",
              "      <th>sqft_lot15</th>\n",
              "    </tr>\n",
              "  </thead>\n",
              "  <tbody>\n",
              "    <tr>\n",
              "      <th>0</th>\n",
              "      <td>7129300520</td>\n",
              "      <td>20141013T000000</td>\n",
              "      <td>221900.0</td>\n",
              "      <td>3</td>\n",
              "      <td>1.00</td>\n",
              "      <td>1180</td>\n",
              "      <td>5650</td>\n",
              "      <td>1.0</td>\n",
              "      <td>0</td>\n",
              "      <td>0</td>\n",
              "      <td>3</td>\n",
              "      <td>7</td>\n",
              "      <td>1180</td>\n",
              "      <td>0</td>\n",
              "      <td>1955</td>\n",
              "      <td>0</td>\n",
              "      <td>98178</td>\n",
              "      <td>47.5112</td>\n",
              "      <td>-122.257</td>\n",
              "      <td>1340</td>\n",
              "      <td>5650</td>\n",
              "    </tr>\n",
              "    <tr>\n",
              "      <th>1</th>\n",
              "      <td>6414100192</td>\n",
              "      <td>20141209T000000</td>\n",
              "      <td>538000.0</td>\n",
              "      <td>3</td>\n",
              "      <td>2.25</td>\n",
              "      <td>2570</td>\n",
              "      <td>7242</td>\n",
              "      <td>2.0</td>\n",
              "      <td>0</td>\n",
              "      <td>0</td>\n",
              "      <td>3</td>\n",
              "      <td>7</td>\n",
              "      <td>2170</td>\n",
              "      <td>400</td>\n",
              "      <td>1951</td>\n",
              "      <td>1991</td>\n",
              "      <td>98125</td>\n",
              "      <td>47.7210</td>\n",
              "      <td>-122.319</td>\n",
              "      <td>1690</td>\n",
              "      <td>7639</td>\n",
              "    </tr>\n",
              "    <tr>\n",
              "      <th>2</th>\n",
              "      <td>5631500400</td>\n",
              "      <td>20150225T000000</td>\n",
              "      <td>180000.0</td>\n",
              "      <td>2</td>\n",
              "      <td>1.00</td>\n",
              "      <td>770</td>\n",
              "      <td>10000</td>\n",
              "      <td>1.0</td>\n",
              "      <td>0</td>\n",
              "      <td>0</td>\n",
              "      <td>3</td>\n",
              "      <td>6</td>\n",
              "      <td>770</td>\n",
              "      <td>0</td>\n",
              "      <td>1933</td>\n",
              "      <td>0</td>\n",
              "      <td>98028</td>\n",
              "      <td>47.7379</td>\n",
              "      <td>-122.233</td>\n",
              "      <td>2720</td>\n",
              "      <td>8062</td>\n",
              "    </tr>\n",
              "    <tr>\n",
              "      <th>3</th>\n",
              "      <td>2487200875</td>\n",
              "      <td>20141209T000000</td>\n",
              "      <td>604000.0</td>\n",
              "      <td>4</td>\n",
              "      <td>3.00</td>\n",
              "      <td>1960</td>\n",
              "      <td>5000</td>\n",
              "      <td>1.0</td>\n",
              "      <td>0</td>\n",
              "      <td>0</td>\n",
              "      <td>5</td>\n",
              "      <td>7</td>\n",
              "      <td>1050</td>\n",
              "      <td>910</td>\n",
              "      <td>1965</td>\n",
              "      <td>0</td>\n",
              "      <td>98136</td>\n",
              "      <td>47.5208</td>\n",
              "      <td>-122.393</td>\n",
              "      <td>1360</td>\n",
              "      <td>5000</td>\n",
              "    </tr>\n",
              "    <tr>\n",
              "      <th>4</th>\n",
              "      <td>1954400510</td>\n",
              "      <td>20150218T000000</td>\n",
              "      <td>510000.0</td>\n",
              "      <td>3</td>\n",
              "      <td>2.00</td>\n",
              "      <td>1680</td>\n",
              "      <td>8080</td>\n",
              "      <td>1.0</td>\n",
              "      <td>0</td>\n",
              "      <td>0</td>\n",
              "      <td>3</td>\n",
              "      <td>8</td>\n",
              "      <td>1680</td>\n",
              "      <td>0</td>\n",
              "      <td>1987</td>\n",
              "      <td>0</td>\n",
              "      <td>98074</td>\n",
              "      <td>47.6168</td>\n",
              "      <td>-122.045</td>\n",
              "      <td>1800</td>\n",
              "      <td>7503</td>\n",
              "    </tr>\n",
              "  </tbody>\n",
              "</table>\n",
              "</div>"
            ],
            "text/plain": [
              "           id             date     price  ...     long  sqft_living15  sqft_lot15\n",
              "0  7129300520  20141013T000000  221900.0  ... -122.257           1340        5650\n",
              "1  6414100192  20141209T000000  538000.0  ... -122.319           1690        7639\n",
              "2  5631500400  20150225T000000  180000.0  ... -122.233           2720        8062\n",
              "3  2487200875  20141209T000000  604000.0  ... -122.393           1360        5000\n",
              "4  1954400510  20150218T000000  510000.0  ... -122.045           1800        7503\n",
              "\n",
              "[5 rows x 21 columns]"
            ]
          },
          "metadata": {
            "tags": []
          },
          "execution_count": 178
        }
      ]
    },
    {
      "cell_type": "markdown",
      "metadata": {
        "id": "kGUndOXCjHs6"
      },
      "source": [
        "Next, I used the Pandas dataframe shape attribute to get the dimensions of the dataset."
      ]
    },
    {
      "cell_type": "code",
      "metadata": {
        "colab": {
          "base_uri": "https://localhost:8080/"
        },
        "id": "riDTlUzQicYW",
        "outputId": "35889724-9469-4e7c-d0f1-bb28898fa906"
      },
      "source": [
        "(entries, cols) = df.shape\n",
        "print('Columns: %i' % cols)\n",
        "print('Entries: %i' % entries)"
      ],
      "execution_count": 179,
      "outputs": [
        {
          "output_type": "stream",
          "text": [
            "Columns: 21\n",
            "Entries: 21613\n"
          ],
          "name": "stdout"
        }
      ]
    },
    {
      "cell_type": "markdown",
      "metadata": {
        "id": "zizWuvlEi7ys"
      },
      "source": [
        "Then, to get more information about the contents of each column, I called the Pandas info() method."
      ]
    },
    {
      "cell_type": "code",
      "metadata": {
        "colab": {
          "base_uri": "https://localhost:8080/"
        },
        "id": "Ww_7VScGk37h",
        "outputId": "0dfc3f4f-f85d-4ad5-ed8b-b9448c7ae836"
      },
      "source": [
        "df.info()"
      ],
      "execution_count": 180,
      "outputs": [
        {
          "output_type": "stream",
          "text": [
            "<class 'pandas.core.frame.DataFrame'>\n",
            "RangeIndex: 21613 entries, 0 to 21612\n",
            "Data columns (total 21 columns):\n",
            " #   Column         Non-Null Count  Dtype  \n",
            "---  ------         --------------  -----  \n",
            " 0   id             21613 non-null  int64  \n",
            " 1   date           21613 non-null  object \n",
            " 2   price          21613 non-null  float64\n",
            " 3   bedrooms       21613 non-null  int64  \n",
            " 4   bathrooms      21613 non-null  float64\n",
            " 5   sqft_living    21613 non-null  int64  \n",
            " 6   sqft_lot       21613 non-null  int64  \n",
            " 7   floors         21613 non-null  float64\n",
            " 8   waterfront     21613 non-null  int64  \n",
            " 9   view           21613 non-null  int64  \n",
            " 10  condition      21613 non-null  int64  \n",
            " 11  grade          21613 non-null  int64  \n",
            " 12  sqft_above     21613 non-null  int64  \n",
            " 13  sqft_basement  21613 non-null  int64  \n",
            " 14  yr_built       21613 non-null  int64  \n",
            " 15  yr_renovated   21613 non-null  int64  \n",
            " 16  zipcode        21613 non-null  int64  \n",
            " 17  lat            21613 non-null  float64\n",
            " 18  long           21613 non-null  float64\n",
            " 19  sqft_living15  21613 non-null  int64  \n",
            " 20  sqft_lot15     21613 non-null  int64  \n",
            "dtypes: float64(5), int64(15), object(1)\n",
            "memory usage: 3.5+ MB\n"
          ],
          "name": "stdout"
        }
      ]
    },
    {
      "cell_type": "markdown",
      "metadata": {
        "id": "S-Y0V79bjz0y"
      },
      "source": [
        "Finally, to make sure all the data was valid, I checked if any of the columns contained any null values."
      ]
    },
    {
      "cell_type": "code",
      "metadata": {
        "colab": {
          "base_uri": "https://localhost:8080/"
        },
        "id": "6HThMFaNisAR",
        "outputId": "3759aee5-e1df-4ba7-a33f-6a1ff445504e"
      },
      "source": [
        "df.isnull().sum()"
      ],
      "execution_count": 181,
      "outputs": [
        {
          "output_type": "execute_result",
          "data": {
            "text/plain": [
              "id               0\n",
              "date             0\n",
              "price            0\n",
              "bedrooms         0\n",
              "bathrooms        0\n",
              "sqft_living      0\n",
              "sqft_lot         0\n",
              "floors           0\n",
              "waterfront       0\n",
              "view             0\n",
              "condition        0\n",
              "grade            0\n",
              "sqft_above       0\n",
              "sqft_basement    0\n",
              "yr_built         0\n",
              "yr_renovated     0\n",
              "zipcode          0\n",
              "lat              0\n",
              "long             0\n",
              "sqft_living15    0\n",
              "sqft_lot15       0\n",
              "dtype: int64"
            ]
          },
          "metadata": {
            "tags": []
          },
          "execution_count": 181
        }
      ]
    },
    {
      "cell_type": "markdown",
      "metadata": {
        "id": "HMkdxhpqj8Pt"
      },
      "source": [
        "**Data Preparation**\n",
        "\n",
        "Since the 'ID', 'Date', 'Year Renovated', and 'Zip Code' columns will not be necessary for the linear regression, I removed them from the dataset.\n",
        "* 'Year Renovated' will not be helpful because if the home was not renovated at all, there is a zero entered, which will skew the data."
      ]
    },
    {
      "cell_type": "code",
      "metadata": {
        "colab": {
          "base_uri": "https://localhost:8080/",
          "height": 224
        },
        "id": "RVK6nZe3lW2U",
        "outputId": "702a9f65-c28b-481f-b9d9-8ede2b5a0af3"
      },
      "source": [
        "df.drop(columns=['id','date', 'yr_renovated', 'zipcode'], inplace=True)\n",
        "df.head()"
      ],
      "execution_count": 182,
      "outputs": [
        {
          "output_type": "execute_result",
          "data": {
            "text/html": [
              "<div>\n",
              "<style scoped>\n",
              "    .dataframe tbody tr th:only-of-type {\n",
              "        vertical-align: middle;\n",
              "    }\n",
              "\n",
              "    .dataframe tbody tr th {\n",
              "        vertical-align: top;\n",
              "    }\n",
              "\n",
              "    .dataframe thead th {\n",
              "        text-align: right;\n",
              "    }\n",
              "</style>\n",
              "<table border=\"1\" class=\"dataframe\">\n",
              "  <thead>\n",
              "    <tr style=\"text-align: right;\">\n",
              "      <th></th>\n",
              "      <th>price</th>\n",
              "      <th>bedrooms</th>\n",
              "      <th>bathrooms</th>\n",
              "      <th>sqft_living</th>\n",
              "      <th>sqft_lot</th>\n",
              "      <th>floors</th>\n",
              "      <th>waterfront</th>\n",
              "      <th>view</th>\n",
              "      <th>condition</th>\n",
              "      <th>grade</th>\n",
              "      <th>sqft_above</th>\n",
              "      <th>sqft_basement</th>\n",
              "      <th>yr_built</th>\n",
              "      <th>lat</th>\n",
              "      <th>long</th>\n",
              "      <th>sqft_living15</th>\n",
              "      <th>sqft_lot15</th>\n",
              "    </tr>\n",
              "  </thead>\n",
              "  <tbody>\n",
              "    <tr>\n",
              "      <th>0</th>\n",
              "      <td>221900.0</td>\n",
              "      <td>3</td>\n",
              "      <td>1.00</td>\n",
              "      <td>1180</td>\n",
              "      <td>5650</td>\n",
              "      <td>1.0</td>\n",
              "      <td>0</td>\n",
              "      <td>0</td>\n",
              "      <td>3</td>\n",
              "      <td>7</td>\n",
              "      <td>1180</td>\n",
              "      <td>0</td>\n",
              "      <td>1955</td>\n",
              "      <td>47.5112</td>\n",
              "      <td>-122.257</td>\n",
              "      <td>1340</td>\n",
              "      <td>5650</td>\n",
              "    </tr>\n",
              "    <tr>\n",
              "      <th>1</th>\n",
              "      <td>538000.0</td>\n",
              "      <td>3</td>\n",
              "      <td>2.25</td>\n",
              "      <td>2570</td>\n",
              "      <td>7242</td>\n",
              "      <td>2.0</td>\n",
              "      <td>0</td>\n",
              "      <td>0</td>\n",
              "      <td>3</td>\n",
              "      <td>7</td>\n",
              "      <td>2170</td>\n",
              "      <td>400</td>\n",
              "      <td>1951</td>\n",
              "      <td>47.7210</td>\n",
              "      <td>-122.319</td>\n",
              "      <td>1690</td>\n",
              "      <td>7639</td>\n",
              "    </tr>\n",
              "    <tr>\n",
              "      <th>2</th>\n",
              "      <td>180000.0</td>\n",
              "      <td>2</td>\n",
              "      <td>1.00</td>\n",
              "      <td>770</td>\n",
              "      <td>10000</td>\n",
              "      <td>1.0</td>\n",
              "      <td>0</td>\n",
              "      <td>0</td>\n",
              "      <td>3</td>\n",
              "      <td>6</td>\n",
              "      <td>770</td>\n",
              "      <td>0</td>\n",
              "      <td>1933</td>\n",
              "      <td>47.7379</td>\n",
              "      <td>-122.233</td>\n",
              "      <td>2720</td>\n",
              "      <td>8062</td>\n",
              "    </tr>\n",
              "    <tr>\n",
              "      <th>3</th>\n",
              "      <td>604000.0</td>\n",
              "      <td>4</td>\n",
              "      <td>3.00</td>\n",
              "      <td>1960</td>\n",
              "      <td>5000</td>\n",
              "      <td>1.0</td>\n",
              "      <td>0</td>\n",
              "      <td>0</td>\n",
              "      <td>5</td>\n",
              "      <td>7</td>\n",
              "      <td>1050</td>\n",
              "      <td>910</td>\n",
              "      <td>1965</td>\n",
              "      <td>47.5208</td>\n",
              "      <td>-122.393</td>\n",
              "      <td>1360</td>\n",
              "      <td>5000</td>\n",
              "    </tr>\n",
              "    <tr>\n",
              "      <th>4</th>\n",
              "      <td>510000.0</td>\n",
              "      <td>3</td>\n",
              "      <td>2.00</td>\n",
              "      <td>1680</td>\n",
              "      <td>8080</td>\n",
              "      <td>1.0</td>\n",
              "      <td>0</td>\n",
              "      <td>0</td>\n",
              "      <td>3</td>\n",
              "      <td>8</td>\n",
              "      <td>1680</td>\n",
              "      <td>0</td>\n",
              "      <td>1987</td>\n",
              "      <td>47.6168</td>\n",
              "      <td>-122.045</td>\n",
              "      <td>1800</td>\n",
              "      <td>7503</td>\n",
              "    </tr>\n",
              "  </tbody>\n",
              "</table>\n",
              "</div>"
            ],
            "text/plain": [
              "      price  bedrooms  bathrooms  ...     long  sqft_living15  sqft_lot15\n",
              "0  221900.0         3       1.00  ... -122.257           1340        5650\n",
              "1  538000.0         3       2.25  ... -122.319           1690        7639\n",
              "2  180000.0         2       1.00  ... -122.233           2720        8062\n",
              "3  604000.0         4       3.00  ... -122.393           1360        5000\n",
              "4  510000.0         3       2.00  ... -122.045           1800        7503\n",
              "\n",
              "[5 rows x 17 columns]"
            ]
          },
          "metadata": {
            "tags": []
          },
          "execution_count": 182
        }
      ]
    },
    {
      "cell_type": "markdown",
      "metadata": {
        "id": "Uxmy9iUWpVdU"
      },
      "source": [
        "Next, I loaded the data into my X and y variables.\n",
        "* The first column ('Price') is the target variable, so I stored it in the y variable\n",
        "* The remaining columns are the feature variables, so I stored them in the X variable"
      ]
    },
    {
      "cell_type": "code",
      "metadata": {
        "id": "lcIuUikrp3y1"
      },
      "source": [
        "# Load the feature columns into X, and the target column into y\n",
        "X = df.iloc[:, 1:]\n",
        "y = df.iloc[:, 0]"
      ],
      "execution_count": 183,
      "outputs": []
    },
    {
      "cell_type": "markdown",
      "metadata": {
        "id": "CJzgwEHQp8AA"
      },
      "source": [
        "To prepare the feature data for linear regression, I called the fit_and_transform() method that I defined earlier to standardize the data.\n",
        "\n",
        "I also appended a column of ones at the beginning of the feature data, to act as the bias term for calculating the intercept of the regression line."
      ]
    },
    {
      "cell_type": "code",
      "metadata": {
        "id": "v7EneVS7qI-J"
      },
      "source": [
        "# Get the number of samples\n",
        "n = len(y)\n",
        "\n",
        "# Standardize the feature data to make gradient descent more accurate\n",
        "X = fit_and_transform(X)\n",
        "\n",
        "# Append a column of ones to the feature data, to add a bias term for calculating the intercept\n",
        "X = np.hstack([np.ones((n, 1)), X])"
      ],
      "execution_count": 184,
      "outputs": []
    },
    {
      "cell_type": "markdown",
      "metadata": {
        "id": "66glkrQNmPzL"
      },
      "source": [
        "Then, I split the data into training and testing sets. The training sets will be used to train the model, and the testing sets will be used to evaluate the model's performance.\n"
      ]
    },
    {
      "cell_type": "code",
      "metadata": {
        "id": "bImKmGMnrCeD",
        "colab": {
          "base_uri": "https://localhost:8080/"
        },
        "outputId": "fc1d09c0-db2e-4bed-ff75-8cf4db4ba199"
      },
      "source": [
        "# Use 70% of the data to train the model, and 30% to test\n",
        "train_size = int(n * .7)\n",
        "test_size = n - train_size\n",
        "\n",
        "print('Number of training samples: %i' % train_size)\n",
        "print('Number of testing samples: %i' % test_size)\n",
        "\n",
        "# Divide the data into training and testing sets\n",
        "X_train = X[:train_size, :]\n",
        "X_test = X[train_size:, :]\n",
        "y_train = y[:train_size]\n",
        "y_test = y[train_size:]"
      ],
      "execution_count": 185,
      "outputs": [
        {
          "output_type": "stream",
          "text": [
            "Number of training samples: 15129\n",
            "Number of testing samples: 6484\n"
          ],
          "name": "stdout"
        }
      ]
    },
    {
      "cell_type": "markdown",
      "metadata": {
        "id": "kgu_LHvdrEjK"
      },
      "source": [
        "**Training the Model**\n",
        "\n",
        "After fully preparing the data, I began training the model using the training sets and the previously defined linear regression methods.\n",
        "\n",
        "First, I initialized the parameters to a vector of zeros.\n",
        "I also initialized the learning rate to 0.003 and the number of iterations to 3000.\n",
        "\n",
        "Using these values, I called my gradient_descent() method and stored its output."
      ]
    },
    {
      "cell_type": "code",
      "metadata": {
        "id": "nYTnRxHsmxZ0"
      },
      "source": [
        "# Initialize the parameters to 0\n",
        "params = np.zeros(X_train.shape[1])\n",
        "\n",
        "# Initialize the desired learning rate and the number of iterations for the gradient descent function\n",
        "learning_rate = 0.003\n",
        "num_iter = 3000\n",
        "\n",
        "# Perform gradient descent with the training sets, and store the final parameters and cost history\n",
        "new_params, cost_history = gradient_descent(X_train, y_train, params, num_iter, learning_rate)"
      ],
      "execution_count": 186,
      "outputs": []
    },
    {
      "cell_type": "markdown",
      "metadata": {
        "id": "zxT2druIsTQH"
      },
      "source": [
        "To quickly check my model's behavior, I plotted the cost history. The figure shows that cost significantly decreased during the first 500 iterations, and kept decreasing at a much slower rate for the remaining 2500 iterations, as expected."
      ]
    },
    {
      "cell_type": "code",
      "metadata": {
        "colab": {
          "base_uri": "https://localhost:8080/",
          "height": 290
        },
        "id": "QojpcgeWq7Av",
        "outputId": "86618ac1-b5cb-4d62-c77c-906402ebca94"
      },
      "source": [
        "plt.plot(cost_history)\n",
        "plt.xlabel('Iterations of Gradient Descent')\n",
        "plt.ylabel('Cost')\n",
        "plt.show()"
      ],
      "execution_count": 187,
      "outputs": [
        {
          "output_type": "display_data",
          "data": {
            "image/png": "[encoded data removed]",
            "text/plain": [
              "<Figure size 432x288 with 1 Axes>"
            ]
          },
          "metadata": {
            "tags": [],
            "needs_background": "light"
          }
        }
      ]
    },
    {
      "cell_type": "markdown",
      "metadata": {
        "id": "G_D78AzT4pEe"
      },
      "source": [
        "**Making Predictions**\n",
        "\n",
        "Using my previously defined predict() method, I made predictions of housing prices from the given test data and new parameters."
      ]
    },
    {
      "cell_type": "code",
      "metadata": {
        "id": "ShZlRxbYsT98",
        "colab": {
          "base_uri": "https://localhost:8080/"
        },
        "outputId": "5f25ad01-8753-447d-cb26-1db80fa78cf8"
      },
      "source": [
        "# Use the final parameters to predict target values for given test feature data\n",
        "y_predict = predict(X_test, new_params)\n",
        "print(y_predict)"
      ],
      "execution_count": 188,
      "outputs": [
        {
          "output_type": "stream",
          "text": [
            "[807999.03937182 903415.98953292  30796.60279483 ... 129188.97145135\n",
            " 343110.07600478 132130.14459656]\n"
          ],
          "name": "stdout"
        }
      ]
    },
    {
      "cell_type": "markdown",
      "metadata": {
        "id": "tJXUODrFtxyW"
      },
      "source": [
        "# Evaluating the Model\n",
        "\n",
        "**Metrics for Evaluating Linear Regression Models**\n",
        "\n",
        "1. *Mean Squared Error (MSE)*:\n",
        "    \n",
        "   The MSE of an estimator measures the average squared error between the actual values and the predicted values. It can be computed using the following equation:\n",
        "\n",
        "   $$MSE = \\frac{1}{n}\\sum_{i=1}^n(y_i - \\hat{y}_i)^2$$\n",
        "\n",
        "   A value of 0 would suggest a perfect fit, indicating that there is 0 error between the actual values and estimated values.\n",
        "\n",
        "2. *Root Mean Squared Error (RMSE)*:\n",
        "\n",
        "   The RMSE of an estimator calculates the square root of the average squared error between the actual values and the predicted values. This metric measures the spread of the data points from the regression line. Lower values indicate a smaller spread, meaning that the predictions made by the regression line are closer to the actual values. The equation used to compute this is as follows:\n",
        "\n",
        "   $$RMSE = \\sqrt{\\frac{1}{n}\\sum_{i=1}^n(y_i - \\hat{y}_i)^2}$$\n",
        "\n",
        "3. *R-Squared*:\n",
        "\n",
        "  The R-Squared value, also known as the coefficient of determination, represents the proportion of variance in the dependent variable that can be explained by the independent variable. It takes on a value between 0 and 1.\n",
        "\n",
        "  The following equation is used to compute this score:\n",
        "\n",
        "  $$R^2 = 1 - \\frac{SS_{res}}{SS_{tot}}$$\n",
        "\n",
        "  Where 𝑆𝑆𝑟𝑒𝑠 is the sum of the squares of the residuals and is calculated as follows:\n",
        "\n",
        "  $$SS_{res} = \\sum_{i=1}^n(y_i - \\hat{y}_i)^2$$\n",
        "\n",
        "  And 𝑆𝑆𝑡𝑜𝑡 is the total sum of squares and is calculated as follows:\n",
        "\n",
        "  $$SS_{tot} = \\sum_{i=1}^n(y_i - \\bar{y})^2$$ \n",
        "\n",
        "  An R-Squared value between 0.3 and 0.5 would indicate a weak score.\n",
        "  \n",
        "  A value between 0.5 and 0.7 would indicate a moderate score.\n",
        "  \n",
        "  And a value greater than 0.7 would indicate a strong score, and suggest that this is a good model for making predictions for this data.\n"
      ]
    },
    {
      "cell_type": "markdown",
      "metadata": {
        "id": "-I6eKvyQrFq6"
      },
      "source": [
        "I implemented evaluation metric methods as follows."
      ]
    },
    {
      "cell_type": "code",
      "metadata": {
        "id": "UIKIlT4ed4Gs"
      },
      "source": [
        "# Computes Mean Squared Error (MSE)\n",
        "def MSE(y_actual, y_predict):\n",
        "    errors = (y_actual - y_predict) ** 2\n",
        "    sum_errors = np.sum(errors)\n",
        "    n = float(len(errors))\n",
        "    mse = sum_errors / n\n",
        "    return mse\n",
        "\n",
        "# Computes Root Mean Squared Error (RMSE)\n",
        "def RMSE(y_actual, y_predict):\n",
        "    errors = (y_actual - y_predict) ** 2\n",
        "    sum_errors = np.sum(errors)\n",
        "    n = float(len(errors))\n",
        "    rmse = np.sqrt(sum_errors / n)\n",
        "    return rmse\n",
        "\n",
        "# Computes R2 score\n",
        "def R2(y_actual, y_predict):\n",
        "    residual_errs = (y_actual - y_predict) ** 2\n",
        "    sum_residuals = np.sum(residual_errs)\n",
        "    \n",
        "    y_mean = np.mean(y_actual)\n",
        "    errors = (y_actual - y_mean) ** 2\n",
        "    sum_squares = np.sum(errors)\n",
        "\n",
        "    r2 = 1 - (sum_residuals / sum_squares)\n",
        "    return r2"
      ],
      "execution_count": 189,
      "outputs": []
    },
    {
      "cell_type": "markdown",
      "metadata": {
        "id": "HCMj2owA_R6M"
      },
      "source": [
        "I then used these evaluation metric methods to evaluate the performance of the linear regression model that I trained on the real estate data."
      ]
    },
    {
      "cell_type": "code",
      "metadata": {
        "colab": {
          "base_uri": "https://localhost:8080/"
        },
        "id": "dT2mg7amcVQ7",
        "outputId": "400bdf17-9fe8-4c5a-bda9-e02c8c2fc219"
      },
      "source": [
        "# Compute all evaluation metrics for the model\n",
        "mse = MSE(y_test, y_predict)\n",
        "rmse = RMSE(y_test, y_predict)\n",
        "r2 = R2(y_test, y_predict)\n",
        "\n",
        "print('Mean Squared Error (MSE): %.3f' % mse)\n",
        "print('Root Mean Squared Error (RMSE): %.3f' % rmse)\n",
        "print('R-Squared: %.3f' % r2)"
      ],
      "execution_count": 190,
      "outputs": [
        {
          "output_type": "stream",
          "text": [
            "Mean Squared Error (MSE): 42202739695.183\n",
            "Root Mean Squared Error (RMSE): 205433.054\n",
            "R-Squared: 0.689\n"
          ],
          "name": "stdout"
        }
      ]
    },
    {
      "cell_type": "markdown",
      "metadata": {
        "id": "zAfH7c7sxNly"
      },
      "source": [
        "The MSE value indicates that, on average, the predicted values were off by 45,035,248,716.58. \n",
        "\n",
        "The RMSE value of 212,215.10 represents a standard deviation of 212,215.10 for the predicted values.\n",
        "\n",
        "The R-Squared score was 0.689, indicating that this model is a moderate fit for the data. This score isn't high enough for this model to be considered strong, and while it does suggest that there is a moderate linear relationship between the property features and the property prices in this dataset, perhaps a different approach would result in a better fit. "
      ]
    },
    {
      "cell_type": "markdown",
      "metadata": {
        "id": "SoW6O6KLuT-O"
      },
      "source": [
        "I created a graph to see the spread of the actual values from the predicted regression line, and get a visual representation of the relationship."
      ]
    },
    {
      "cell_type": "code",
      "metadata": {
        "colab": {
          "base_uri": "https://localhost:8080/",
          "height": 291
        },
        "id": "hkfmBpaeA7Ey",
        "outputId": "82bca1a8-b415-4f5e-e885-18a67a6492c4"
      },
      "source": [
        "plt.scatter(y_predict, y_test, color='green', label='Actual Values')\n",
        "plt.plot(y_predict, y_predict, color='blue', label='Predicted Values')\n",
        "plt.legend()\n",
        "plt.xlabel('y_predict')\n",
        "plt.ylabel('Predictions')\n",
        "plt.show()"
      ],
      "execution_count": 191,
      "outputs": [
        {
          "output_type": "display_data",
          "data": {
            "image/png": "[encoded data removed]",
            "text/plain": [
              "<Figure size 432x288 with 1 Axes>"
            ]
          },
          "metadata": {
            "tags": [],
            "needs_background": "light"
          }
        }
      ]
    },
    {
      "cell_type": "markdown",
      "metadata": {
        "id": "Q2lIqGiL3m_V"
      },
      "source": [
        "We can see from the graph that although the model appears to do a good job predicting property values approximately lower than $2 million, its accuracy seems to decrease as property values rise higher than this threshold. This indicates that a linear relationship may not be the best approach for modeling this data."
      ]
    }
  ]
}